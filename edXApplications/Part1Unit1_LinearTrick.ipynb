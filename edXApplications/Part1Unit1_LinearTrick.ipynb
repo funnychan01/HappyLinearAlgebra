{
 "cells": [
  {
   "cell_type": "code",
   "execution_count": 2,
   "metadata": {},
   "outputs": [
    {
     "ename": "ModuleNotFoundError",
     "evalue": "No module named 'util'",
     "output_type": "error",
     "traceback": [
      "\u001b[1;31m---------------------------------------------------------------------------\u001b[0m",
      "\u001b[1;31mModuleNotFoundError\u001b[0m                       Traceback (most recent call last)",
      "\u001b[1;32m<ipython-input-2-f19c44465b38>\u001b[0m in \u001b[0;36m<module>\u001b[1;34m()\u001b[0m\n\u001b[1;32m----> 1\u001b[1;33m \u001b[1;32mfrom\u001b[0m \u001b[0mutil\u001b[0m \u001b[1;32mimport\u001b[0m \u001b[0mDesignTableFrame\u001b[0m\u001b[1;33m\u001b[0m\u001b[0m\n\u001b[0m",
      "\u001b[1;31mModuleNotFoundError\u001b[0m: No module named 'util'"
     ]
    }
   ],
   "source": [
    "from util import DesignTableFrame"
   ]
  },
  {
   "cell_type": "code",
   "execution_count": null,
   "metadata": {},
   "outputs": [],
   "source": [
    "# choose a number between 10 to 83\n",
    "# Find the sum of the number's two digits\n",
    "# Subtract that sum from the chosen number\n",
    "\n",
    "# 4 5 6 7 8 9 10\n",
    "# 11 12 13 14 15 16\n",
    "# ...\n",
    "# ...\n",
    "# ... \n",
    "# ...\n",
    "# ...\n",
    "# ...\n",
    "# ...\n",
    "# ...\n"
   ]
  },
  {
   "cell_type": "code",
   "execution_count": null,
   "metadata": {},
   "outputs": [],
   "source": [
    "class LinearTrick(trickNumber = 9, tableFrame: DesignTableFrame):\n",
    "    def __init__(self):\n",
    "        numRange = []\n",
    "        self.tableFrame = tableFrame\n",
    "    \n",
    "    # calculating the result of the linear equation\n",
    "    def linearEquation(self):\n",
    "        # (10a + b) - (a + b)\n",
    "        # process self.getNumber\n",
    "        # return the symbol linking with that number\n",
    "        pass\n",
    "    \n",
    "    # creating the table frame to show the audience\n",
    "    def BuildTableFrame(self):\n",
    "        # put the self.getSymbol right next the trickNumber\n",
    "        # return tableframe\n",
    "        pass\n",
    "       \n",
    "    # creating conversation to interact with audience\n",
    "    # runner\n",
    "    def conversation(self):\n",
    "        print(\"Hello, my dear friend!\")\n",
    "        print()\n",
    "        self.getNumber = input(\"Please pick a number between 10 - 83.\")\n",
    "        print(\"Alright, you pick up \", self.getNumber, \".\")\n",
    "        \n",
    "        self.getSymbol = LinearTrick.linearEquation()\n",
    "        \n",
    "        print(\"Now, please follow my instruction carefully...\")\n",
    "        print(\"Firstly, please add the two digits from your chosen number.\")\n",
    "        print(\"Secondly, please subtract that sum from your chosen number.\")\n",
    "        print(\"Got it...?\")\n",
    "        print(\"Now find your result on the table frame.\")\n",
    "        \n",
    "        LinearTrick.BuildTableFrame()\n",
    "        \n",
    "        print(\"And stare at the the symbol right next to your result.\")\n",
    "        print(\"Um...let me guess what symbol are you looking at...\")\n",
    "        print(\"Um...it should be...\")\n",
    "        print() # print self.getSymbol\n",
    "        \n",
    "if __name__ == \"__main__\":\n",
    "    playMagic = LinearTrick()\n",
    "    playMagic.conversation()"
   ]
  }
 ],
 "metadata": {
  "kernelspec": {
   "display_name": "Python 3",
   "language": "python",
   "name": "python3"
  },
  "language_info": {
   "codemirror_mode": {
    "name": "ipython",
    "version": 3
   },
   "file_extension": ".py",
   "mimetype": "text/x-python",
   "name": "python",
   "nbconvert_exporter": "python",
   "pygments_lexer": "ipython3",
   "version": "3.6.5"
  }
 },
 "nbformat": 4,
 "nbformat_minor": 2
}
