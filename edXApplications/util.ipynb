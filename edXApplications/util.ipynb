{
 "cells": [
  {
   "cell_type": "code",
   "execution_count": 26,
   "metadata": {},
   "outputs": [],
   "source": [
    "import string\n",
    "import random"
   ]
  },
  {
   "cell_type": "code",
   "execution_count": null,
   "metadata": {},
   "outputs": [],
   "source": [
    "class DesignTableFrame():\n",
    "    def __init__(self):\n",
    "        pass\n",
    "    \n",
    "    def CreateTableFrame(self):\n",
    "        pass"
   ]
  },
  {
   "cell_type": "code",
   "execution_count": 20,
   "metadata": {},
   "outputs": [
    {
     "name": "stdout",
     "output_type": "stream",
     "text": [
      "------------------------\n",
      "| 10 | A | 20 | B | 30 | C |\n",
      "| 10 | A | 20 | B | 30 | C |\n",
      "| 10 | A | 20 | B | 30 | C |\n",
      "| 10 | A | 20 | B | 30 | C |\n",
      "------------------------\n"
     ]
    }
   ],
   "source": [
    "print(\"------------------------\\n| 10 | A | 20 | B | 30 | C |\\n| 10 | A | 20 | B | 30 | C |\\n| 10 | A | 20 | B | 30 | C |\\n| 10 | A | 20 | B | 30 | C |\\n------------------------\")"
   ]
  },
  {
   "cell_type": "code",
   "execution_count": 49,
   "metadata": {},
   "outputs": [
    {
     "name": "stdout",
     "output_type": "stream",
     "text": [
      "\n",
      "----------------------------------------------\n",
      "| 04 Y | 05 X | 06 Y | 07 Z | 08 F | 09 H | 10 K |\n",
      "----------------------------------------------\n",
      "| 11 A | 12 Z | 13 X | 14 Y | 15 Y | 16 C | 17 H |\n",
      "----------------------------------------------\n",
      "| G | W | T | T | R | E | C |\n",
      "----------------------------------------------\n",
      "| B | Y | N | M | Z | W | R |\n",
      "----------------------------------------------\n",
      "| D | M | S | Z | H | A | D |\n",
      "----------------------------------------------\n",
      "| N | Q | G | K | M | L | O |\n",
      "----------------------------------------------\n",
      "| R | E | D | I | A | L | B |\n",
      "----------------------------------------------\n",
      "| D | Q | D | B | L | U | D |\n",
      "----------------------------------------------\n",
      "| C | S | T | Z | N | U | Q |\n",
      "----------------------------------------------\n",
      "| F | M | E | E | F | U | B |\n",
      "----------------------------------------------\n",
      "| X | D | B | P | F | L | H |\n",
      "----------------------------------------------\n",
      "| Z | D | R | L | V | X | P |\n",
      "----------------------------------------------\n",
      "| S | Y | X | U | Y | P | V |\n",
      "----------------------------------------------\n",
      "\n"
     ]
    }
   ],
   "source": [
    "print(\"\"\"\n",
    "----------------------------------------------\n",
    "| 04 Y | 05 X | 06 Y | 07 Z | 08 F | 09 H | 10 K |\n",
    "----------------------------------------------\n",
    "| 11 A | 12 Z | 13 X | 14 Y | 15 Y | 16 C | 17 H |\n",
    "----------------------------------------------\n",
    "| 18 H | 19 V | 20 T | 21 T | 22 R | 23 E | 24 C |\n",
    "----------------------------------------------\n",
    "| 25 B | 26 Y | 27 N | 28 N | 29 Z | 30 V | 31 R |\n",
    "----------------------------------------------\n",
    "| D | M | S | Z | H | A | D |\n",
    "----------------------------------------------\n",
    "| N | Q | G | K | M | L | O |\n",
    "----------------------------------------------\n",
    "| R | E | D | I | A | L | B |\n",
    "----------------------------------------------\n",
    "| D | Q | D | B | L | U | D |\n",
    "----------------------------------------------\n",
    "| C | S | T | Z | N | U | Q |\n",
    "----------------------------------------------\n",
    "| F | M | E | E | F | U | B |\n",
    "----------------------------------------------\n",
    "| X | D | B | P | F | L | H |\n",
    "----------------------------------------------\n",
    "| Z | D | R | L | V | X | P |\n",
    "----------------------------------------------\n",
    "| 81 F | 82 Y | 83 X | 84 U | 85 Y | 86 P | 87 V |\n",
    "----------------------------------------------\n",
    "\"\"\")"
   ]
  },
  {
   "cell_type": "code",
   "execution_count": 46,
   "metadata": {},
   "outputs": [
    {
     "name": "stdout",
     "output_type": "stream",
     "text": [
      "G | W | T | T | R | E | C\n",
      "J | Y | N | M | Z | W | R\n",
      "J | M | S | Z | H | A | D\n",
      "N | Q | G | K | M | L | O\n",
      "R | E | D | I | A | L | B\n",
      "D | Q | D | B | L | U | D\n",
      "C | S | T | Z | N | U | Q\n",
      "F | M | E | E | F | U | B\n",
      "X | D | B | P | F | L | H\n",
      "Z | D | R | L | V | X | P\n",
      "S | Y | X | U | Y | P | V\n"
     ]
    }
   ],
   "source": [
    "for i in range(0, 11):\n",
    "    a = random.choices(string.ascii_uppercase, k = 7)\n",
    "    print(\" | \".join(a))"
   ]
  },
  {
   "cell_type": "code",
   "execution_count": 45,
   "metadata": {},
   "outputs": [
    {
     "data": {
      "text/plain": [
       "'I | Z | X | Y | Y | C | H'"
      ]
     },
     "execution_count": 45,
     "metadata": {},
     "output_type": "execute_result"
    }
   ],
   "source": []
  },
  {
   "cell_type": "code",
   "execution_count": null,
   "metadata": {},
   "outputs": [],
   "source": []
  }
 ],
 "metadata": {
  "kernelspec": {
   "display_name": "Python 3",
   "language": "python",
   "name": "python3"
  },
  "language_info": {
   "codemirror_mode": {
    "name": "ipython",
    "version": 3
   },
   "file_extension": ".py",
   "mimetype": "text/x-python",
   "name": "python",
   "nbconvert_exporter": "python",
   "pygments_lexer": "ipython3",
   "version": "3.6.5"
  }
 },
 "nbformat": 4,
 "nbformat_minor": 2
}
